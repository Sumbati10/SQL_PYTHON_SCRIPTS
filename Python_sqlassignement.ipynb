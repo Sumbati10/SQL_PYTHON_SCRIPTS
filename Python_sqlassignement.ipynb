{
 "cells": [
  {
   "cell_type": "code",
   "execution_count": 1,
   "id": "791698f4",
   "metadata": {},
   "outputs": [],
   "source": [
    "import mysql.connector\n",
    "from mysql.connector import Error\n",
    "import pandas as pd\n",
    "import numpy as np"
   ]
  },
  {
   "cell_type": "code",
   "execution_count": 2,
   "id": "7199af81",
   "metadata": {},
   "outputs": [],
   "source": [
    "db_config = {\n",
    "    'host':'localhost',\n",
    "    'user':'root',\n",
    "    'password':'Shirasala10??'    \n",
    "    \n",
    "    \n",
    "}"
   ]
  },
  {
   "cell_type": "code",
   "execution_count": 5,
   "id": "9e31675f",
   "metadata": {},
   "outputs": [],
   "source": [
    "conn = mysql.connector.connect(**db_config)"
   ]
  },
  {
   "cell_type": "code",
   "execution_count": 6,
   "id": "3c1feb6c",
   "metadata": {},
   "outputs": [],
   "source": [
    "# Function to execute MySQL queries\n",
    "def execute_query(query):\n",
    "    cursor = conn.cursor()\n",
    "    cursor.execute(query)\n",
    "    conn.commit()\n",
    "    cursor.close()"
   ]
  },
  {
   "cell_type": "code",
   "execution_count": 11,
   "id": "b8003a32",
   "metadata": {},
   "outputs": [],
   "source": [
    "# Create database if not exists\n",
    "create_db_query = \"CREATE DATABASE IF NOT EXISTS edu_institute;\"\n",
    "execute_query(create_db_query)"
   ]
  },
  {
   "cell_type": "code",
   "execution_count": 12,
   "id": "25c5716b",
   "metadata": {},
   "outputs": [],
   "source": [
    "# use the db\n",
    "use_db_query = \"USE edu_institute;\"\n",
    "execute_query(use_db_query)"
   ]
  },
  {
   "cell_type": "code",
   "execution_count": 14,
   "id": "a710ae55",
   "metadata": {},
   "outputs": [
    {
     "name": "stdout",
     "output_type": "stream",
     "text": [
      "Connected to the database\n"
     ]
    }
   ],
   "source": [
    "\n",
    "import pandas as pd\n",
    "\n",
    "# Connect to the database\n",
    "connection = mysql.connector.connect(\n",
    "    host=\"localhost\",  # Replace with your database host\n",
    "    user=\"root\",        # Replace with your database username\n",
    "    password=\"Shirasala10??\",    # Replace with your database password\n",
    "    database=\"edu_institute\"     # Replace with your database name\n",
    ")\n",
    "\n",
    "# Check if the connection is successful\n",
    "if connection.is_connected():\n",
    "    print(\"Connected to the database\")"
   ]
  },
  {
   "cell_type": "code",
   "execution_count": 15,
   "id": "300d997a",
   "metadata": {},
   "outputs": [
    {
     "name": "stdout",
     "output_type": "stream",
     "text": [
      "   student_id           name  age gender enrollment_date       program\n",
      "0           2  Sharon Cherop   26      F      2022-03-04  Data Science\n",
      "1           3  Benedict Njue   24      M      2022-03-04  Data Science\n"
     ]
    },
    {
     "name": "stderr",
     "output_type": "stream",
     "text": [
      "C:\\Users\\Administrator\\AppData\\Local\\Temp\\ipykernel_17196\\1356908409.py:3: UserWarning: pandas only supports SQLAlchemy connectable (engine/connection) or database string URI or sqlite3 DBAPI2 connection. Other DBAPI2 objects are not tested. Please consider using SQLAlchemy.\n",
      "  df = pd.read_sql(query, connection)\n"
     ]
    }
   ],
   "source": [
    "# Execute a query to select all columns for all students in the \"Data Science\" program\n",
    "query = \"SELECT * FROM students WHERE program = 'Data Science'\"\n",
    "df = pd.read_sql(query, connection)\n",
    "print(df)"
   ]
  },
  {
   "cell_type": "code",
   "execution_count": 16,
   "id": "ad394ef8",
   "metadata": {},
   "outputs": [
    {
     "name": "stdout",
     "output_type": "stream",
     "text": [
      "   TotalStudents\n",
      "0              5\n"
     ]
    },
    {
     "name": "stderr",
     "output_type": "stream",
     "text": [
      "C:\\Users\\Administrator\\AppData\\Local\\Temp\\ipykernel_17196\\219960947.py:3: UserWarning: pandas only supports SQLAlchemy connectable (engine/connection) or database string URI or sqlite3 DBAPI2 connection. Other DBAPI2 objects are not tested. Please consider using SQLAlchemy.\n",
      "  total_students = pd.read_sql(query, connection)\n"
     ]
    }
   ],
   "source": [
    "# Execute a query to find the total number of students and display it as TotalStudents\n",
    "query = \"SELECT COUNT(*) AS TotalStudents FROM students\"\n",
    "total_students = pd.read_sql(query, connection)\n",
    "print(total_students)"
   ]
  },
  {
   "cell_type": "code",
   "execution_count": 18,
   "id": "65ef8368",
   "metadata": {},
   "outputs": [
    {
     "name": "stdout",
     "output_type": "stream",
     "text": [
      "  Today''s Date\n",
      "0    2024-03-11\n"
     ]
    },
    {
     "name": "stderr",
     "output_type": "stream",
     "text": [
      "C:\\Users\\Administrator\\AppData\\Local\\Temp\\ipykernel_17196\\2882975174.py:3: UserWarning: pandas only supports SQLAlchemy connectable (engine/connection) or database string URI or sqlite3 DBAPI2 connection. Other DBAPI2 objects are not tested. Please consider using SQLAlchemy.\n",
      "  today_date = pd.read_sql(query, connection)\n"
     ]
    }
   ],
   "source": [
    "# Execute a query to display today's date in a column named Today's Date\n",
    "query = \"SELECT CURRENT_DATE() AS `Today''s Date`\"\n",
    "today_date = pd.read_sql(query, connection)\n",
    "print(today_date)\n"
   ]
  },
  {
   "cell_type": "code",
   "execution_count": 19,
   "id": "2694c279",
   "metadata": {},
   "outputs": [
    {
     "name": "stdout",
     "output_type": "stream",
     "text": [
      "               name enrollment_date\n",
      "0     LINDA SUMBATI      2022-03-04\n",
      "1     SHARON CHEROP      2022-03-04\n",
      "2     BENEDICT NJUE      2022-03-04\n",
      "3  DABRAHAM IMMORAH      2022-03-04\n",
      "4       DAN NJUGUNA      2022-03-04\n"
     ]
    },
    {
     "name": "stderr",
     "output_type": "stream",
     "text": [
      "C:\\Users\\Administrator\\AppData\\Local\\Temp\\ipykernel_17196\\956270742.py:3: UserWarning: pandas only supports SQLAlchemy connectable (engine/connection) or database string URI or sqlite3 DBAPI2 connection. Other DBAPI2 objects are not tested. Please consider using SQLAlchemy.\n",
      "  upper_names = pd.read_sql(query, connection)\n"
     ]
    }
   ],
   "source": [
    "# Execute a query to select the student names and their enrollment dates, but display the name column in uppercase\n",
    "query = \"SELECT UPPER(name) AS name, enrollment_date FROM students\"\n",
    "upper_names = pd.read_sql(query, connection)\n",
    "print(upper_names)"
   ]
  },
  {
   "cell_type": "code",
   "execution_count": 20,
   "id": "0c1e7357",
   "metadata": {},
   "outputs": [
    {
     "name": "stdout",
     "output_type": "stream",
     "text": [
      "                 program  Number of Students\n",
      "0           Data Science                   2\n",
      "1       Computer Science                   1\n",
      "2  Software\\nEngineering                   1\n",
      "3         Cloud Security                   1\n"
     ]
    },
    {
     "name": "stderr",
     "output_type": "stream",
     "text": [
      "C:\\Users\\Administrator\\AppData\\Local\\Temp\\ipykernel_17196\\339975614.py:3: UserWarning: pandas only supports SQLAlchemy connectable (engine/connection) or database string URI or sqlite3 DBAPI2 connection. Other DBAPI2 objects are not tested. Please consider using SQLAlchemy.\n",
      "  program_counts = pd.read_sql(query, connection)\n"
     ]
    }
   ],
   "source": [
    "# Execute a query to count the number of students in each program and display the results in descending order of count. Name the count column as Numberof Students\n",
    "query = \"SELECT program, COUNT(*) AS 'Number of Students' FROM students GROUP BY program ORDER BY COUNT(*) DESC\"\n",
    "program_counts = pd.read_sql(query, connection)\n",
    "print(program_counts)"
   ]
  },
  {
   "cell_type": "code",
   "execution_count": 21,
   "id": "5d0cac04",
   "metadata": {},
   "outputs": [
    {
     "name": "stdout",
     "output_type": "stream",
     "text": [
      "          name  age\n",
      "0  Dan Njuguna   22\n"
     ]
    },
    {
     "name": "stderr",
     "output_type": "stream",
     "text": [
      "C:\\Users\\Administrator\\AppData\\Local\\Temp\\ipykernel_17196\\3251023974.py:3: UserWarning: pandas only supports SQLAlchemy connectable (engine/connection) or database string URI or sqlite3 DBAPI2 connection. Other DBAPI2 objects are not tested. Please consider using SQLAlchemy.\n",
      "  youngest_student = pd.read_sql(query, connection)\n"
     ]
    }
   ],
   "source": [
    "# Execute a query to find the youngest student's name and age\n",
    "query = \"SELECT name, age FROM students ORDER BY age ASC LIMIT 1\"\n",
    "youngest_student = pd.read_sql(query, connection)\n",
    "print(youngest_student)"
   ]
  },
  {
   "cell_type": "code",
   "execution_count": null,
   "id": "46c9119d",
   "metadata": {},
   "outputs": [],
   "source": []
  }
 ],
 "metadata": {
  "kernelspec": {
   "display_name": "Python 3 (ipykernel)",
   "language": "python",
   "name": "python3"
  },
  "language_info": {
   "codemirror_mode": {
    "name": "ipython",
    "version": 3
   },
   "file_extension": ".py",
   "mimetype": "text/x-python",
   "name": "python",
   "nbconvert_exporter": "python",
   "pygments_lexer": "ipython3",
   "version": "3.11.4"
  }
 },
 "nbformat": 4,
 "nbformat_minor": 5
}
